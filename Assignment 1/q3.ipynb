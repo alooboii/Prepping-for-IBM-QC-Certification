{
 "cells": [
  {
   "cell_type": "markdown",
   "id": "55313bc5",
   "metadata": {},
   "source": [
    "Find the eigenvalues and eigenstates of the operators $Z \\otimes I$, $I \\otimes Z$, $Z \\otimes Z$.\n"
   ]
  },
  {
   "cell_type": "code",
   "execution_count": 68,
   "id": "cf7728dd",
   "metadata": {},
   "outputs": [],
   "source": [
    "import qiskit\n",
    "from IPython.display import display, Latex\n",
    "from numpy import linalg as LA\n",
    "from qiskit.quantum_info import Operator"
   ]
  },
  {
   "cell_type": "code",
   "execution_count": 69,
   "id": "b6d98323",
   "metadata": {},
   "outputs": [
    {
     "data": {
      "text/latex": [
       "$$Z = \n",
       "\n",
       "\\begin{bmatrix}\n",
       "1 & 0  \\\\\n",
       " 0 & -1  \\\\\n",
       " \\end{bmatrix}\n",
       "$$"
      ],
      "text/plain": [
       "<IPython.core.display.Latex object>"
      ]
     },
     "metadata": {},
     "output_type": "display_data"
    },
    {
     "data": {
      "text/latex": [
       "$$I = \n",
       "\n",
       "\\begin{bmatrix}\n",
       "1 & 0  \\\\\n",
       " 0 & -1  \\\\\n",
       " \\end{bmatrix}\n",
       "$$"
      ],
      "text/plain": [
       "<IPython.core.display.Latex object>"
      ]
     },
     "metadata": {},
     "output_type": "display_data"
    }
   ],
   "source": [
    "Z = Operator.from_label('Z')\n",
    "display(Latex(r\"$$Z = \" + Z.draw(output='latex').data.strip('$') + r\"$$\"))\n",
    "I = Operator.from_label('I')\n",
    "display(Latex(r\"$$I = \" + Z.draw(output='latex').data.strip('$') + r\"$$\"))"
   ]
  },
  {
   "cell_type": "code",
   "execution_count": 70,
   "id": "8e39a613",
   "metadata": {},
   "outputs": [
    {
     "data": {
      "text/latex": [
       "$$Z \\otimes I = \n",
       "\n",
       "\\begin{bmatrix}\n",
       "1 & 0 & 0 & 0  \\\\\n",
       " 0 & 1 & 0 & 0  \\\\\n",
       " 0 & 0 & -1 & 0  \\\\\n",
       " 0 & 0 & 0 & -1  \\\\\n",
       " \\end{bmatrix}\n",
       "$$"
      ],
      "text/plain": [
       "<IPython.core.display.Latex object>"
      ]
     },
     "metadata": {},
     "output_type": "display_data"
    },
    {
     "data": {
      "text/latex": [
       "$$I \\otimes Z = \n",
       "\n",
       "\\begin{bmatrix}\n",
       "1 & 0 & 0 & 0  \\\\\n",
       " 0 & -1 & 0 & 0  \\\\\n",
       " 0 & 0 & 1 & 0  \\\\\n",
       " 0 & 0 & 0 & -1  \\\\\n",
       " \\end{bmatrix}\n",
       "$$"
      ],
      "text/plain": [
       "<IPython.core.display.Latex object>"
      ]
     },
     "metadata": {},
     "output_type": "display_data"
    },
    {
     "data": {
      "text/latex": [
       "$$Z \\otimes Z = \n",
       "\n",
       "\\begin{bmatrix}\n",
       "1 & 0 & 0 & 0  \\\\\n",
       " 0 & -1 & 0 & 0  \\\\\n",
       " 0 & 0 & -1 & 0  \\\\\n",
       " 0 & 0 & 0 & 1  \\\\\n",
       " \\end{bmatrix}\n",
       "$$"
      ],
      "text/plain": [
       "<IPython.core.display.Latex object>"
      ]
     },
     "metadata": {},
     "output_type": "display_data"
    }
   ],
   "source": [
    "Z_I = Z.tensor(I)\n",
    "I_Z = I.tensor(Z)\n",
    "Z_Z = Z.tensor(Z)\n",
    "display(Latex(r\"$$Z \\otimes I = \" + Z_I.draw(output='latex').data.strip('$') + r\"$$\"))\n",
    "display(Latex(r\"$$I \\otimes Z = \" + I_Z.draw(output='latex').data.strip('$') + r\"$$\"))\n",
    "display(Latex(r\"$$Z \\otimes Z = \" + Z_Z.draw(output='latex').data.strip('$') + r\"$$\"))"
   ]
  },
  {
   "cell_type": "code",
   "execution_count": 71,
   "id": "97656426",
   "metadata": {},
   "outputs": [
    {
     "data": {
      "text/latex": [
       "$$\\text{Eigenvalues of } I \\otimes Z = \\begin{bmatrix} -1.00 & -1.00 & 1.00 & 1.00\\end{bmatrix}$$"
      ],
      "text/plain": [
       "<IPython.core.display.Latex object>"
      ]
     },
     "metadata": {},
     "output_type": "display_data"
    },
    {
     "data": {
      "text/latex": [
       "$$\\text{Eigenvectors of } I \\otimes Z = \\begin{bmatrix} 0.00+0.00j & 0.00+0.00j & 0.00+0.00j & 1.00+0.00j \\\\1.00+0.00j & 0.00+0.00j & 0.00+0.00j & 0.00+0.00j \\\\0.00+0.00j & 0.00+0.00j & 1.00+0.00j & 0.00+0.00j \\\\0.00+0.00j & 1.00+0.00j & 0.00+0.00j & 0.00+0.00j\\end{bmatrix}$$"
      ],
      "text/plain": [
       "<IPython.core.display.Latex object>"
      ]
     },
     "metadata": {},
     "output_type": "display_data"
    }
   ],
   "source": [
    "e_iz,v_iz = LA.eigh(I_Z)\n",
    "\n",
    "# Format eigenvalues\n",
    "latex_e_iz = r\"$$\\text{Eigenvalues of } I \\otimes Z = \\begin{bmatrix} \" + \\\n",
    "          \" & \".join([f\"{val:.2f}\" for val in e_iz]) + \\\n",
    "          r\"\\end{bmatrix}$$\"\n",
    "\n",
    "# Format eigenvectors as a 4x4 bmatrix (columns = eigenvectors)\n",
    "latex_v_iz = r\"$$\\text{Eigenvectors of } I \\otimes Z = \\begin{bmatrix} \" + \\\n",
    "          r\" \\\\\".join(\n",
    "              [\" & \".join([f\"{v_iz[row, col]:.2f}\" for col in range(v_iz.shape[1])])\n",
    "               for row in range(v_iz.shape[0])]\n",
    "          ) + r\"\\end{bmatrix}$$\"\n",
    "\n",
    "# Display both\n",
    "display(Latex(latex_e_iz))\n",
    "display(Latex(latex_v_iz))"
   ]
  },
  {
   "cell_type": "code",
   "execution_count": 72,
   "id": "ee94f321",
   "metadata": {},
   "outputs": [
    {
     "data": {
      "text/latex": [
       "$$\\text{Eigenvalues of } Z \\otimes I = \\begin{bmatrix} -1.00 & -1.00 & 1.00 & 1.00\\end{bmatrix}$$"
      ],
      "text/plain": [
       "<IPython.core.display.Latex object>"
      ]
     },
     "metadata": {},
     "output_type": "display_data"
    },
    {
     "data": {
      "text/latex": [
       "$$\\text{Eigenvectors of } Z \\otimes I = \\begin{bmatrix} 0.00+0.00j & 0.00+0.00j & 1.00+0.00j & 0.00+0.00j \\\\0.00+0.00j & 0.00+0.00j & 0.00+0.00j & 1.00+0.00j \\\\1.00+0.00j & 0.00+0.00j & 0.00+0.00j & 0.00+0.00j \\\\0.00+0.00j & 1.00+0.00j & 0.00+0.00j & 0.00+0.00j\\end{bmatrix}$$"
      ],
      "text/plain": [
       "<IPython.core.display.Latex object>"
      ]
     },
     "metadata": {},
     "output_type": "display_data"
    }
   ],
   "source": [
    "e_zi,v_zi = LA.eigh(Z_I)\n",
    "\n",
    "# Format eigenvalues\n",
    "latex_e_zi = r\"$$\\text{Eigenvalues of } Z \\otimes I = \\begin{bmatrix} \" + \\\n",
    "          \" & \".join([f\"{val:.2f}\" for val in e_zi]) + \\\n",
    "          r\"\\end{bmatrix}$$\"\n",
    "\n",
    "# Format eigenvectors as a 4x4 bmatrix (columns = eigenvectors)\n",
    "latex_v_zi = r\"$$\\text{Eigenvectors of } Z \\otimes I = \\begin{bmatrix} \" + \\\n",
    "          r\" \\\\\".join(\n",
    "              [\" & \".join([f\"{v_zi[row, col]:.2f}\" for col in range(v_zi.shape[1])])\n",
    "               for row in range(v_zi.shape[0])]\n",
    "          ) + r\"\\end{bmatrix}$$\"\n",
    "\n",
    "# Display both\n",
    "display(Latex(latex_e_zi))\n",
    "display(Latex(latex_v_zi))"
   ]
  },
  {
   "cell_type": "code",
   "execution_count": 73,
   "id": "1abe0e50",
   "metadata": {},
   "outputs": [
    {
     "data": {
      "text/latex": [
       "$$\\text{Eigenvalues of } Z \\otimes I = \\begin{bmatrix} -1.00 & -1.00 & 1.00 & 1.00\\end{bmatrix}$$"
      ],
      "text/plain": [
       "<IPython.core.display.Latex object>"
      ]
     },
     "metadata": {},
     "output_type": "display_data"
    },
    {
     "data": {
      "text/latex": [
       "$$\\text{Eigenvectors of } Z \\otimes I = \\begin{bmatrix} 0.00+0.00j & 0.00+0.00j & 1.00+0.00j & 0.00+0.00j \\\\1.00+0.00j & 0.00+0.00j & 0.00+0.00j & 0.00+0.00j \\\\0.00+0.00j & 1.00+0.00j & 0.00+0.00j & 0.00+0.00j \\\\0.00+0.00j & 0.00+0.00j & 0.00+0.00j & 1.00+0.00j\\end{bmatrix}$$"
      ],
      "text/plain": [
       "<IPython.core.display.Latex object>"
      ]
     },
     "metadata": {},
     "output_type": "display_data"
    }
   ],
   "source": [
    "e_zz,v_zz = LA.eigh(Z_Z)\n",
    "\n",
    "# Format eigenvalues\n",
    "latex_e_zz = r\"$$\\text{Eigenvalues of } Z \\otimes I = \\begin{bmatrix} \" + \\\n",
    "          \" & \".join([f\"{val:.2f}\" for val in e_zz]) + \\\n",
    "          r\"\\end{bmatrix}$$\"\n",
    "\n",
    "# Format eigenvectors as a 4x4 bmatrix (columns = eigenvectors)\n",
    "latex_v_zz = r\"$$\\text{Eigenvectors of } Z \\otimes I = \\begin{bmatrix} \" + \\\n",
    "          r\" \\\\\".join(\n",
    "              [\" & \".join([f\"{v_zz[row, col]:.2f}\" for col in range(v_zz.shape[1])])\n",
    "               for row in range(v_zz.shape[0])]\n",
    "          ) + r\"\\end{bmatrix}$$\"\n",
    "\n",
    "# Display both\n",
    "display(Latex(latex_e_zz))\n",
    "display(Latex(latex_v_zz))"
   ]
  }
 ],
 "metadata": {
  "kernelspec": {
   "display_name": "Python 3",
   "language": "python",
   "name": "python3"
  },
  "language_info": {
   "codemirror_mode": {
    "name": "ipython",
    "version": 3
   },
   "file_extension": ".py",
   "mimetype": "text/x-python",
   "name": "python",
   "nbconvert_exporter": "python",
   "pygments_lexer": "ipython3",
   "version": "3.13.1"
  }
 },
 "nbformat": 4,
 "nbformat_minor": 5
}
