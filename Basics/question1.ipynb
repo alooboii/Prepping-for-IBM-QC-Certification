{
 "cells": [
  {
   "cell_type": "markdown",
   "id": "f622bb8f",
   "metadata": {},
   "source": [
    "Consider the state\n",
    "\n",
    "$$\n",
    "\\ket{\\psi} = \\frac{1}{\\sqrt{2}} \\left( \\ket{0} + e^{i\\delta} \\ket{1} \\right)\n",
    "$$\n",
    "\n",
    "Compute the probability of measuring in the computational basis \\( p(0) \\) and \\( p(1) \\). Also, compute the probabilities of measuring in the Hadamard basis \\( p(+) \\) and \\( p(-) \\).\n",
    "\n",
    "\n"
   ]
  },
  {
   "cell_type": "code",
   "execution_count": null,
   "id": "34a36514",
   "metadata": {},
   "outputs": [],
   "source": [
    "import qiskit\n",
    "import numpy as np\n",
    "from numpy import pi\n",
    "from qiskit import QuantumCircuit, QuantumRegister, ClassicalRegister\n",
    "import qiskit.quantum_info as qi\n",
    "from qiskit.primitives import StatevectorSampler as Sampler   #To measure Probabilities"
   ]
  },
  {
   "cell_type": "code",
   "execution_count": 183,
   "id": "506a2c2c",
   "metadata": {},
   "outputs": [
    {
     "data": {
      "image/png": "[encoded data removed]",
      "text/plain": [
       "<Figure size 376.107x200.667 with 1 Axes>"
      ]
     },
     "execution_count": 183,
     "metadata": {},
     "output_type": "execute_result"
    }
   ],
   "source": [
    "qreg = QuantumRegister(1,'psi')\n",
    "creg = ClassicalRegister(1, 'c')\n",
    "qc = QuantumCircuit(qreg,creg)\n",
    "sigma = pi/4    #arbitrary choice\n",
    "qc.initialize([1,0],qreg)\n",
    "qc.h(qreg)\n",
    "qc.p(sigma,qreg)\n",
    "qc.draw('mpl')\n"
   ]
  },
  {
   "cell_type": "code",
   "execution_count": 184,
   "id": "aa3d5970",
   "metadata": {},
   "outputs": [
    {
     "data": {
      "text/latex": [
       "$$\\frac{\\sqrt{2}}{2} |0\\rangle+(\\frac{1}{2} + \\frac{i}{2}) |1\\rangle$$"
      ],
      "text/plain": [
       "<IPython.core.display.Latex object>"
      ]
     },
     "execution_count": 184,
     "metadata": {},
     "output_type": "execute_result"
    }
   ],
   "source": [
    "sv = qi.Statevector(qc)\n",
    "sv.draw('latex')"
   ]
  },
  {
   "cell_type": "code",
   "execution_count": 185,
   "id": "0f27d996",
   "metadata": {},
   "outputs": [
    {
     "name": "stdout",
     "output_type": "stream",
     "text": [
      "----------------Computational Basis----------------\n",
      "Probability of measuring |0> is 0.5002\n",
      "Probability of measuring |1> is 0.4998\n"
     ]
    }
   ],
   "source": [
    "qc_comp = qc.copy()\n",
    "qc_comp.measure(qreg,creg)\n",
    "sampler = Sampler()\n",
    "job = sampler.run([qc_comp],shots=10000)\n",
    "result = job.result()\n",
    "bitvals = result[0].data.c\n",
    "count = bitvals.get_counts()\n",
    "shots = sum(count.values())\n",
    "print(\"----------------Computational Basis----------------\")\n",
    "print(f\"Probability of measuring |0> is {count['0']/shots}\")\n",
    "print(f\"Probability of measuring |1> is {count['1']/shots}\")"
   ]
  },
  {
   "cell_type": "code",
   "execution_count": null,
   "id": "bbbc0919",
   "metadata": {},
   "outputs": [
    {
     "name": "stdout",
     "output_type": "stream",
     "text": [
      "----------------Hadamard Basis----------------\n",
      "Probability of measuring |0> is 0.8512\n",
      "Probability of measuring |1> is 0.1488\n"
     ]
    }
   ],
   "source": [
    "qc_hadamard = qc.copy()\n",
    "qc_hadamard.h(qreg)\n",
    "qc_hadamard.measure(qreg,creg)\n",
    "sampler = Sampler()\n",
    "job = sampler.run([qc_hadamard],shots=10000)\n",
    "result = job.result()\n",
    "bitvals = result[0].data.c\n",
    "count = bitvals.get_counts()\n",
    "shots = sum(count.values())\n",
    "print(\"----------------Hadamard Basis----------------\")\n",
    "print(f\"Probability of measuring |0> is {count['0']/shots}\")\n",
    "print(f\"Probability of measuring |1> is {count['1']/shots}\")"
   ]
  }
 ],
 "metadata": {
  "kernelspec": {
   "display_name": "Python 3",
   "language": "python",
   "name": "python3"
  },
  "language_info": {
   "codemirror_mode": {
    "name": "ipython",
    "version": 3
   },
   "file_extension": ".py",
   "mimetype": "text/x-python",
   "name": "python",
   "nbconvert_exporter": "python",
   "pygments_lexer": "ipython3",
   "version": "3.13.1"
  }
 },
 "nbformat": 4,
 "nbformat_minor": 5
}
